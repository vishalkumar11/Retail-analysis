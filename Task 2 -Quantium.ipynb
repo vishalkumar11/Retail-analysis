{
 "cells": [
  {
   "cell_type": "code",
   "execution_count": 1,
   "metadata": {},
   "outputs": [],
   "source": [
    "import numpy as np\n",
    "import pandas as pd\n",
    "import matplotlib.pyplot as plt\n",
    "import seaborn as sns\n",
    "\n",
    "\n",
    "file=pd.read_csv('QVI_data.csv')"
   ]
  },
  {
   "cell_type": "code",
   "execution_count": 6,
   "metadata": {},
   "outputs": [
    {
     "data": {
      "text/html": [
       "<div>\n",
       "<style scoped>\n",
       "    .dataframe tbody tr th:only-of-type {\n",
       "        vertical-align: middle;\n",
       "    }\n",
       "\n",
       "    .dataframe tbody tr th {\n",
       "        vertical-align: top;\n",
       "    }\n",
       "\n",
       "    .dataframe thead th {\n",
       "        text-align: right;\n",
       "    }\n",
       "</style>\n",
       "<table border=\"1\" class=\"dataframe\">\n",
       "  <thead>\n",
       "    <tr style=\"text-align: right;\">\n",
       "      <th></th>\n",
       "      <th>LYLTY_CARD_NBR</th>\n",
       "      <th>DATE</th>\n",
       "      <th>STORE_NBR</th>\n",
       "      <th>TXN_ID</th>\n",
       "      <th>PROD_NBR</th>\n",
       "      <th>PROD_NAME</th>\n",
       "      <th>PROD_QTY</th>\n",
       "      <th>TOT_SALES</th>\n",
       "      <th>PACK_SIZE</th>\n",
       "      <th>BRAND</th>\n",
       "      <th>LIFESTAGE</th>\n",
       "      <th>PREMIUM_CUSTOMER</th>\n",
       "    </tr>\n",
       "  </thead>\n",
       "  <tbody>\n",
       "    <tr>\n",
       "      <th>0</th>\n",
       "      <td>1000</td>\n",
       "      <td>2018-10-17</td>\n",
       "      <td>1</td>\n",
       "      <td>1</td>\n",
       "      <td>5</td>\n",
       "      <td>Natural Chip        Compny SeaSalt175g</td>\n",
       "      <td>2</td>\n",
       "      <td>6.0</td>\n",
       "      <td>175</td>\n",
       "      <td>NATURAL</td>\n",
       "      <td>YOUNG SINGLES/COUPLES</td>\n",
       "      <td>Premium</td>\n",
       "    </tr>\n",
       "    <tr>\n",
       "      <th>1</th>\n",
       "      <td>1002</td>\n",
       "      <td>2018-09-16</td>\n",
       "      <td>1</td>\n",
       "      <td>2</td>\n",
       "      <td>58</td>\n",
       "      <td>Red Rock Deli Chikn&amp;Garlic Aioli 150g</td>\n",
       "      <td>1</td>\n",
       "      <td>2.7</td>\n",
       "      <td>150</td>\n",
       "      <td>RRD</td>\n",
       "      <td>YOUNG SINGLES/COUPLES</td>\n",
       "      <td>Mainstream</td>\n",
       "    </tr>\n",
       "    <tr>\n",
       "      <th>2</th>\n",
       "      <td>1003</td>\n",
       "      <td>2019-03-07</td>\n",
       "      <td>1</td>\n",
       "      <td>3</td>\n",
       "      <td>52</td>\n",
       "      <td>Grain Waves Sour    Cream&amp;Chives 210G</td>\n",
       "      <td>1</td>\n",
       "      <td>3.6</td>\n",
       "      <td>210</td>\n",
       "      <td>GRNWVES</td>\n",
       "      <td>YOUNG FAMILIES</td>\n",
       "      <td>Budget</td>\n",
       "    </tr>\n",
       "    <tr>\n",
       "      <th>3</th>\n",
       "      <td>1003</td>\n",
       "      <td>2019-03-08</td>\n",
       "      <td>1</td>\n",
       "      <td>4</td>\n",
       "      <td>106</td>\n",
       "      <td>Natural ChipCo      Hony Soy Chckn175g</td>\n",
       "      <td>1</td>\n",
       "      <td>3.0</td>\n",
       "      <td>175</td>\n",
       "      <td>NATURAL</td>\n",
       "      <td>YOUNG FAMILIES</td>\n",
       "      <td>Budget</td>\n",
       "    </tr>\n",
       "    <tr>\n",
       "      <th>4</th>\n",
       "      <td>1004</td>\n",
       "      <td>2018-11-02</td>\n",
       "      <td>1</td>\n",
       "      <td>5</td>\n",
       "      <td>96</td>\n",
       "      <td>WW Original Stacked Chips 160g</td>\n",
       "      <td>1</td>\n",
       "      <td>1.9</td>\n",
       "      <td>160</td>\n",
       "      <td>WOOLWORTHS</td>\n",
       "      <td>OLDER SINGLES/COUPLES</td>\n",
       "      <td>Mainstream</td>\n",
       "    </tr>\n",
       "  </tbody>\n",
       "</table>\n",
       "</div>"
      ],
      "text/plain": [
       "   LYLTY_CARD_NBR        DATE  STORE_NBR  TXN_ID  PROD_NBR  \\\n",
       "0            1000  2018-10-17          1       1         5   \n",
       "1            1002  2018-09-16          1       2        58   \n",
       "2            1003  2019-03-07          1       3        52   \n",
       "3            1003  2019-03-08          1       4       106   \n",
       "4            1004  2018-11-02          1       5        96   \n",
       "\n",
       "                                PROD_NAME  PROD_QTY  TOT_SALES  PACK_SIZE  \\\n",
       "0  Natural Chip        Compny SeaSalt175g         2        6.0        175   \n",
       "1   Red Rock Deli Chikn&Garlic Aioli 150g         1        2.7        150   \n",
       "2   Grain Waves Sour    Cream&Chives 210G         1        3.6        210   \n",
       "3  Natural ChipCo      Hony Soy Chckn175g         1        3.0        175   \n",
       "4          WW Original Stacked Chips 160g         1        1.9        160   \n",
       "\n",
       "        BRAND              LIFESTAGE PREMIUM_CUSTOMER  \n",
       "0     NATURAL  YOUNG SINGLES/COUPLES          Premium  \n",
       "1         RRD  YOUNG SINGLES/COUPLES       Mainstream  \n",
       "2     GRNWVES         YOUNG FAMILIES           Budget  \n",
       "3     NATURAL         YOUNG FAMILIES           Budget  \n",
       "4  WOOLWORTHS  OLDER SINGLES/COUPLES       Mainstream  "
      ]
     },
     "execution_count": 6,
     "metadata": {},
     "output_type": "execute_result"
    }
   ],
   "source": [
    "file.head()"
   ]
  },
  {
   "cell_type": "code",
   "execution_count": 4,
   "metadata": {},
   "outputs": [
    {
     "name": "stdout",
     "output_type": "stream",
     "text": [
      "<class 'pandas.core.frame.DataFrame'>\n",
      "RangeIndex: 264834 entries, 0 to 264833\n",
      "Data columns (total 12 columns):\n",
      " #   Column            Non-Null Count   Dtype  \n",
      "---  ------            --------------   -----  \n",
      " 0   LYLTY_CARD_NBR    264834 non-null  int64  \n",
      " 1   DATE              264834 non-null  object \n",
      " 2   STORE_NBR         264834 non-null  int64  \n",
      " 3   TXN_ID            264834 non-null  int64  \n",
      " 4   PROD_NBR          264834 non-null  int64  \n",
      " 5   PROD_NAME         264834 non-null  object \n",
      " 6   PROD_QTY          264834 non-null  int64  \n",
      " 7   TOT_SALES         264834 non-null  float64\n",
      " 8   PACK_SIZE         264834 non-null  int64  \n",
      " 9   BRAND             264834 non-null  object \n",
      " 10  LIFESTAGE         264834 non-null  object \n",
      " 11  PREMIUM_CUSTOMER  264834 non-null  object \n",
      "dtypes: float64(1), int64(6), object(5)\n",
      "memory usage: 24.2+ MB\n"
     ]
    }
   ],
   "source": [
    "file.describe()\n",
    "file.info()"
   ]
  },
  {
   "cell_type": "code",
   "execution_count": 5,
   "metadata": {},
   "outputs": [
    {
     "data": {
      "text/plain": [
       "LYLTY_CARD_NBR                                        3230\n",
       "DATE                                            2018-07-02\n",
       "STORE_NBR                                                3\n",
       "TXN_ID                                                2102\n",
       "PROD_NBR                                               102\n",
       "PROD_NAME           Kettle Mozzarella   Basil & Pesto 175g\n",
       "PROD_QTY                                                 2\n",
       "TOT_SALES                                             10.8\n",
       "PACK_SIZE                                              175\n",
       "BRAND                                               KETTLE\n",
       "LIFESTAGE                            OLDER SINGLES/COUPLES\n",
       "PREMIUM_CUSTOMER                                Mainstream\n",
       "Name: 2050, dtype: object"
      ]
     },
     "execution_count": 5,
     "metadata": {},
     "output_type": "execute_result"
    }
   ],
   "source": [
    "file.iloc[2050]"
   ]
  },
  {
   "cell_type": "markdown",
   "metadata": {},
   "source": [
    "Compare trial stores to control stores that are similar-pre trial :\n",
    "-  monthly overall sales revenue\n",
    "-  monthly number of customers\n",
    "-  monthly number of transactions per customer"
   ]
  },
  {
   "cell_type": "code",
   "execution_count": 12,
   "metadata": {},
   "outputs": [
    {
     "data": {
      "text/html": [
       "<div>\n",
       "<style scoped>\n",
       "    .dataframe tbody tr th:only-of-type {\n",
       "        vertical-align: middle;\n",
       "    }\n",
       "\n",
       "    .dataframe tbody tr th {\n",
       "        vertical-align: top;\n",
       "    }\n",
       "\n",
       "    .dataframe thead th {\n",
       "        text-align: right;\n",
       "    }\n",
       "</style>\n",
       "<table border=\"1\" class=\"dataframe\">\n",
       "  <thead>\n",
       "    <tr style=\"text-align: right;\">\n",
       "      <th></th>\n",
       "      <th>LYLTY_CARD_NBR</th>\n",
       "      <th>DATE</th>\n",
       "      <th>STORE_NBR</th>\n",
       "      <th>TXN_ID</th>\n",
       "      <th>PROD_NBR</th>\n",
       "      <th>PROD_NAME</th>\n",
       "      <th>PROD_QTY</th>\n",
       "      <th>TOT_SALES</th>\n",
       "      <th>PACK_SIZE</th>\n",
       "      <th>BRAND</th>\n",
       "      <th>LIFESTAGE</th>\n",
       "      <th>PREMIUM_CUSTOMER</th>\n",
       "    </tr>\n",
       "  </thead>\n",
       "  <tbody>\n",
       "    <tr>\n",
       "      <th>77</th>\n",
       "      <td>1071</td>\n",
       "      <td>2019-05-18</td>\n",
       "      <td>1</td>\n",
       "      <td>83</td>\n",
       "      <td>101</td>\n",
       "      <td>Doritos Salsa       Medium 300g</td>\n",
       "      <td>1</td>\n",
       "      <td>2.6</td>\n",
       "      <td>300</td>\n",
       "      <td>DORITOS</td>\n",
       "      <td>YOUNG FAMILIES</td>\n",
       "      <td>Mainstream</td>\n",
       "    </tr>\n",
       "    <tr>\n",
       "      <th>78</th>\n",
       "      <td>1071</td>\n",
       "      <td>2019-01-19</td>\n",
       "      <td>1</td>\n",
       "      <td>82</td>\n",
       "      <td>60</td>\n",
       "      <td>Kettle Tortilla ChpsFeta&amp;Garlic 150g</td>\n",
       "      <td>1</td>\n",
       "      <td>4.6</td>\n",
       "      <td>150</td>\n",
       "      <td>KETTLE</td>\n",
       "      <td>YOUNG FAMILIES</td>\n",
       "      <td>Mainstream</td>\n",
       "    </tr>\n",
       "    <tr>\n",
       "      <th>79</th>\n",
       "      <td>1072</td>\n",
       "      <td>2018-07-27</td>\n",
       "      <td>1</td>\n",
       "      <td>84</td>\n",
       "      <td>73</td>\n",
       "      <td>Smiths Crinkle Cut  Salt &amp; Vinegar 170g</td>\n",
       "      <td>2</td>\n",
       "      <td>5.8</td>\n",
       "      <td>170</td>\n",
       "      <td>SMITHS</td>\n",
       "      <td>NEW FAMILIES</td>\n",
       "      <td>Premium</td>\n",
       "    </tr>\n",
       "    <tr>\n",
       "      <th>80</th>\n",
       "      <td>1072</td>\n",
       "      <td>2019-04-04</td>\n",
       "      <td>1</td>\n",
       "      <td>85</td>\n",
       "      <td>95</td>\n",
       "      <td>Sunbites Whlegrn    Crisps Frch/Onin 90g</td>\n",
       "      <td>1</td>\n",
       "      <td>1.7</td>\n",
       "      <td>90</td>\n",
       "      <td>SUNBITES</td>\n",
       "      <td>NEW FAMILIES</td>\n",
       "      <td>Premium</td>\n",
       "    </tr>\n",
       "    <tr>\n",
       "      <th>81</th>\n",
       "      <td>1074</td>\n",
       "      <td>2019-01-18</td>\n",
       "      <td>1</td>\n",
       "      <td>86</td>\n",
       "      <td>107</td>\n",
       "      <td>Smiths Crinkle Cut  French OnionDip 150g</td>\n",
       "      <td>1</td>\n",
       "      <td>2.6</td>\n",
       "      <td>150</td>\n",
       "      <td>SMITHS</td>\n",
       "      <td>RETIREES</td>\n",
       "      <td>Budget</td>\n",
       "    </tr>\n",
       "    <tr>\n",
       "      <th>82</th>\n",
       "      <td>1076</td>\n",
       "      <td>2019-05-16</td>\n",
       "      <td>1</td>\n",
       "      <td>87</td>\n",
       "      <td>107</td>\n",
       "      <td>Smiths Crinkle Cut  French OnionDip 150g</td>\n",
       "      <td>1</td>\n",
       "      <td>2.6</td>\n",
       "      <td>150</td>\n",
       "      <td>SMITHS</td>\n",
       "      <td>YOUNG SINGLES/COUPLES</td>\n",
       "      <td>Budget</td>\n",
       "    </tr>\n",
       "    <tr>\n",
       "      <th>83</th>\n",
       "      <td>1077</td>\n",
       "      <td>2019-05-16</td>\n",
       "      <td>1</td>\n",
       "      <td>88</td>\n",
       "      <td>60</td>\n",
       "      <td>Kettle Tortilla ChpsFeta&amp;Garlic 150g</td>\n",
       "      <td>2</td>\n",
       "      <td>4.6</td>\n",
       "      <td>150</td>\n",
       "      <td>KETTLE</td>\n",
       "      <td>OLDER SINGLES/COUPLES</td>\n",
       "      <td>Premium</td>\n",
       "    </tr>\n",
       "    <tr>\n",
       "      <th>84</th>\n",
       "      <td>1080</td>\n",
       "      <td>2018-11-30</td>\n",
       "      <td>1</td>\n",
       "      <td>89</td>\n",
       "      <td>111</td>\n",
       "      <td>Smiths Chip Thinly  Cut Original 175g</td>\n",
       "      <td>1</td>\n",
       "      <td>3.0</td>\n",
       "      <td>175</td>\n",
       "      <td>SMITHS</td>\n",
       "      <td>RETIREES</td>\n",
       "      <td>Budget</td>\n",
       "    </tr>\n",
       "    <tr>\n",
       "      <th>85</th>\n",
       "      <td>1080</td>\n",
       "      <td>2019-02-28</td>\n",
       "      <td>1</td>\n",
       "      <td>90</td>\n",
       "      <td>83</td>\n",
       "      <td>WW D/Style Chip     Sea Salt 200g</td>\n",
       "      <td>1</td>\n",
       "      <td>1.9</td>\n",
       "      <td>200</td>\n",
       "      <td>WOOLWORTHS</td>\n",
       "      <td>RETIREES</td>\n",
       "      <td>Budget</td>\n",
       "    </tr>\n",
       "    <tr>\n",
       "      <th>86</th>\n",
       "      <td>1080</td>\n",
       "      <td>2019-06-18</td>\n",
       "      <td>1</td>\n",
       "      <td>91</td>\n",
       "      <td>79</td>\n",
       "      <td>Smiths Chip Thinly  CutSalt/Vinegr175g</td>\n",
       "      <td>1</td>\n",
       "      <td>3.0</td>\n",
       "      <td>175</td>\n",
       "      <td>SMITHS</td>\n",
       "      <td>RETIREES</td>\n",
       "      <td>Budget</td>\n",
       "    </tr>\n",
       "    <tr>\n",
       "      <th>87</th>\n",
       "      <td>1081</td>\n",
       "      <td>2018-09-27</td>\n",
       "      <td>1</td>\n",
       "      <td>92</td>\n",
       "      <td>17</td>\n",
       "      <td>Kettle Sensations   BBQ&amp;Maple 150g</td>\n",
       "      <td>1</td>\n",
       "      <td>4.6</td>\n",
       "      <td>150</td>\n",
       "      <td>KETTLE</td>\n",
       "      <td>MIDAGE SINGLES/COUPLES</td>\n",
       "      <td>Budget</td>\n",
       "    </tr>\n",
       "  </tbody>\n",
       "</table>\n",
       "</div>"
      ],
      "text/plain": [
       "    LYLTY_CARD_NBR        DATE  STORE_NBR  TXN_ID  PROD_NBR  \\\n",
       "77            1071  2019-05-18          1      83       101   \n",
       "78            1071  2019-01-19          1      82        60   \n",
       "79            1072  2018-07-27          1      84        73   \n",
       "80            1072  2019-04-04          1      85        95   \n",
       "81            1074  2019-01-18          1      86       107   \n",
       "82            1076  2019-05-16          1      87       107   \n",
       "83            1077  2019-05-16          1      88        60   \n",
       "84            1080  2018-11-30          1      89       111   \n",
       "85            1080  2019-02-28          1      90        83   \n",
       "86            1080  2019-06-18          1      91        79   \n",
       "87            1081  2018-09-27          1      92        17   \n",
       "\n",
       "                                   PROD_NAME  PROD_QTY  TOT_SALES  PACK_SIZE  \\\n",
       "77           Doritos Salsa       Medium 300g         1        2.6        300   \n",
       "78      Kettle Tortilla ChpsFeta&Garlic 150g         1        4.6        150   \n",
       "79   Smiths Crinkle Cut  Salt & Vinegar 170g         2        5.8        170   \n",
       "80  Sunbites Whlegrn    Crisps Frch/Onin 90g         1        1.7         90   \n",
       "81  Smiths Crinkle Cut  French OnionDip 150g         1        2.6        150   \n",
       "82  Smiths Crinkle Cut  French OnionDip 150g         1        2.6        150   \n",
       "83      Kettle Tortilla ChpsFeta&Garlic 150g         2        4.6        150   \n",
       "84     Smiths Chip Thinly  Cut Original 175g         1        3.0        175   \n",
       "85         WW D/Style Chip     Sea Salt 200g         1        1.9        200   \n",
       "86    Smiths Chip Thinly  CutSalt/Vinegr175g         1        3.0        175   \n",
       "87        Kettle Sensations   BBQ&Maple 150g         1        4.6        150   \n",
       "\n",
       "         BRAND               LIFESTAGE PREMIUM_CUSTOMER  \n",
       "77     DORITOS          YOUNG FAMILIES       Mainstream  \n",
       "78      KETTLE          YOUNG FAMILIES       Mainstream  \n",
       "79      SMITHS            NEW FAMILIES          Premium  \n",
       "80    SUNBITES            NEW FAMILIES          Premium  \n",
       "81      SMITHS                RETIREES           Budget  \n",
       "82      SMITHS   YOUNG SINGLES/COUPLES           Budget  \n",
       "83      KETTLE   OLDER SINGLES/COUPLES          Premium  \n",
       "84      SMITHS                RETIREES           Budget  \n",
       "85  WOOLWORTHS                RETIREES           Budget  \n",
       "86      SMITHS                RETIREES           Budget  \n",
       "87      KETTLE  MIDAGE SINGLES/COUPLES           Budget  "
      ]
     },
     "execution_count": 12,
     "metadata": {},
     "output_type": "execute_result"
    }
   ],
   "source": [
    "file.iloc[77:88]"
   ]
  },
  {
   "cell_type": "code",
   "execution_count": 18,
   "metadata": {},
   "outputs": [
    {
     "data": {
      "text/plain": [
       "0    201810\n",
       "1    201809\n",
       "2    201903\n",
       "3    201903\n",
       "4    201811\n",
       "Name: YEARMONTH, dtype: int32"
      ]
     },
     "execution_count": 18,
     "metadata": {},
     "output_type": "execute_result"
    }
   ],
   "source": [
    "file[\"DATE\"]=pd.to_datetime(file[\"DATE\"])\n",
    "file[\"YEARMONTH\"]=file[\"DATE\"].dt.strftime(\"%Y%m\").astype(\"int\")\n",
    "file[\"YEARMONTH\"].head()"
   ]
  },
  {
   "cell_type": "markdown",
   "metadata": {},
   "source": [
    "Complie each month sale\n",
    "- total sale\n",
    "- number of customers \n",
    "- average transactions per customer\n",
    "- average chips per customer \n",
    "- average price per unit\n"
   ]
  },
  {
   "cell_type": "code",
   "execution_count": 27,
   "metadata": {},
   "outputs": [
    {
     "data": {
      "text/html": [
       "<div>\n",
       "<style scoped>\n",
       "    .dataframe tbody tr th:only-of-type {\n",
       "        vertical-align: middle;\n",
       "    }\n",
       "\n",
       "    .dataframe tbody tr th {\n",
       "        vertical-align: top;\n",
       "    }\n",
       "\n",
       "    .dataframe thead th {\n",
       "        text-align: right;\n",
       "    }\n",
       "</style>\n",
       "<table border=\"1\" class=\"dataframe\">\n",
       "  <thead>\n",
       "    <tr style=\"text-align: right;\">\n",
       "      <th></th>\n",
       "      <th>STORE_NBR</th>\n",
       "      <th>YEARMONTH</th>\n",
       "      <th>TOT_SALES</th>\n",
       "      <th>nCustomers</th>\n",
       "      <th>nTxnPerCust</th>\n",
       "      <th>nChipsPerCust</th>\n",
       "      <th>navgPricePerUnit</th>\n",
       "    </tr>\n",
       "  </thead>\n",
       "  <tbody>\n",
       "    <tr>\n",
       "      <th>0</th>\n",
       "      <td>1</td>\n",
       "      <td>201807</td>\n",
       "      <td>206.9</td>\n",
       "      <td>49</td>\n",
       "      <td>1.061224</td>\n",
       "      <td>1.265306</td>\n",
       "      <td>3.337097</td>\n",
       "    </tr>\n",
       "    <tr>\n",
       "      <th>1</th>\n",
       "      <td>1</td>\n",
       "      <td>201808</td>\n",
       "      <td>176.1</td>\n",
       "      <td>42</td>\n",
       "      <td>1.023810</td>\n",
       "      <td>1.285714</td>\n",
       "      <td>3.261111</td>\n",
       "    </tr>\n",
       "    <tr>\n",
       "      <th>2</th>\n",
       "      <td>1</td>\n",
       "      <td>201809</td>\n",
       "      <td>278.8</td>\n",
       "      <td>59</td>\n",
       "      <td>1.050847</td>\n",
       "      <td>1.271186</td>\n",
       "      <td>3.717333</td>\n",
       "    </tr>\n",
       "    <tr>\n",
       "      <th>3</th>\n",
       "      <td>1</td>\n",
       "      <td>201810</td>\n",
       "      <td>188.1</td>\n",
       "      <td>44</td>\n",
       "      <td>1.022727</td>\n",
       "      <td>1.318182</td>\n",
       "      <td>3.243103</td>\n",
       "    </tr>\n",
       "    <tr>\n",
       "      <th>4</th>\n",
       "      <td>1</td>\n",
       "      <td>201811</td>\n",
       "      <td>192.6</td>\n",
       "      <td>46</td>\n",
       "      <td>1.021739</td>\n",
       "      <td>1.239130</td>\n",
       "      <td>3.378947</td>\n",
       "    </tr>\n",
       "  </tbody>\n",
       "</table>\n",
       "</div>"
      ],
      "text/plain": [
       "   STORE_NBR  YEARMONTH  TOT_SALES  nCustomers  nTxnPerCust  nChipsPerCust  \\\n",
       "0          1     201807      206.9          49     1.061224       1.265306   \n",
       "1          1     201808      176.1          42     1.023810       1.285714   \n",
       "2          1     201809      278.8          59     1.050847       1.271186   \n",
       "3          1     201810      188.1          44     1.022727       1.318182   \n",
       "4          1     201811      192.6          46     1.021739       1.239130   \n",
       "\n",
       "   navgPricePerUnit  \n",
       "0          3.337097  \n",
       "1          3.261111  \n",
       "2          3.717333  \n",
       "3          3.243103  \n",
       "4          3.378947  "
      ]
     },
     "execution_count": 27,
     "metadata": {},
     "output_type": "execute_result"
    }
   ],
   "source": [
    "def monthly_trans():\n",
    "    store_yrm_grp=file.groupby([\"STORE_NBR\",\"YEARMONTH\"])\n",
    "    total_sales=store_yrm_grp[\"TOT_SALES\"].sum()\n",
    "    num_customer=store_yrm_grp[\"LYLTY_CARD_NBR\"].nunique()\n",
    "    avr_tran_per_customer=store_yrm_grp.size()/num_customer\n",
    "    avr_chips_per_customer=store_yrm_grp[\"PROD_QTY\"].sum()/num_customer\n",
    "    avr_chips_price=total_sales/store_yrm_grp[\"PROD_QTY\"].sum()\n",
    "    aggr=[total_sales,num_customer,avr_tran_per_customer,avr_chips_per_customer,avr_chips_price]\n",
    "    metrics=pd.concat(aggr,axis=1)\n",
    "    metrics.columns=[\"TOT_SALES\",\"nCustomers\",\"nTxnPerCust\",\"nChipsPerCust\",\"navgPricePerUnit\"]\n",
    "    return metrics\n",
    "\n",
    "file_month_metrics=monthly_trans().reset_index()\n",
    "file_month_metrics.head()"
   ]
  },
  {
   "cell_type": "markdown",
   "metadata": {},
   "source": [
    "This is fig shows, the relation between chips per customer and total sales"
   ]
  },
  {
   "cell_type": "code",
   "execution_count": 41,
   "metadata": {},
   "outputs": [
    {
     "data": {
      "image/png": "[encoded data removed]",
      "text/plain": [
       "<Figure size 432x432 with 3 Axes>"
      ]
     },
     "metadata": {
      "needs_background": "light"
     },
     "output_type": "display_data"
    }
   ],
   "source": [
    "x=file_month_metrics[\"TOT_SALES\"].astype(\"int\")\n",
    "y=file_month_metrics[\"nChipsPerCust\"].astype(\"int\")\n",
    "sns.jointplot(x,y,color=\"g\",kind=\"reg\")\n",
    "plt.savefig(\"regression plot for chips per customer and total sales\")"
   ]
  },
  {
   "cell_type": "markdown",
   "metadata": {},
   "source": [
    "Filtering only stores with full 12 months observation"
   ]
  },
  {
   "cell_type": "code",
   "execution_count": 42,
   "metadata": {},
   "outputs": [
    {
     "data": {
      "text/html": [
       "<div>\n",
       "<style scoped>\n",
       "    .dataframe tbody tr th:only-of-type {\n",
       "        vertical-align: middle;\n",
       "    }\n",
       "\n",
       "    .dataframe tbody tr th {\n",
       "        vertical-align: top;\n",
       "    }\n",
       "\n",
       "    .dataframe thead th {\n",
       "        text-align: right;\n",
       "    }\n",
       "</style>\n",
       "<table border=\"1\" class=\"dataframe\">\n",
       "  <thead>\n",
       "    <tr style=\"text-align: right;\">\n",
       "      <th></th>\n",
       "      <th>STORE_NBR</th>\n",
       "      <th>YEARMONTH</th>\n",
       "      <th>TOT_SALES</th>\n",
       "      <th>nCustomers</th>\n",
       "      <th>nTxnPerCust</th>\n",
       "      <th>nChipsPerCust</th>\n",
       "      <th>navgPricePerUnit</th>\n",
       "    </tr>\n",
       "  </thead>\n",
       "  <tbody>\n",
       "    <tr>\n",
       "      <th>0</th>\n",
       "      <td>1</td>\n",
       "      <td>201807</td>\n",
       "      <td>206.9</td>\n",
       "      <td>49</td>\n",
       "      <td>1.061224</td>\n",
       "      <td>1.265306</td>\n",
       "      <td>3.337097</td>\n",
       "    </tr>\n",
       "    <tr>\n",
       "      <th>1</th>\n",
       "      <td>1</td>\n",
       "      <td>201808</td>\n",
       "      <td>176.1</td>\n",
       "      <td>42</td>\n",
       "      <td>1.023810</td>\n",
       "      <td>1.285714</td>\n",
       "      <td>3.261111</td>\n",
       "    </tr>\n",
       "    <tr>\n",
       "      <th>2</th>\n",
       "      <td>1</td>\n",
       "      <td>201809</td>\n",
       "      <td>278.8</td>\n",
       "      <td>59</td>\n",
       "      <td>1.050847</td>\n",
       "      <td>1.271186</td>\n",
       "      <td>3.717333</td>\n",
       "    </tr>\n",
       "    <tr>\n",
       "      <th>3</th>\n",
       "      <td>1</td>\n",
       "      <td>201810</td>\n",
       "      <td>188.1</td>\n",
       "      <td>44</td>\n",
       "      <td>1.022727</td>\n",
       "      <td>1.318182</td>\n",
       "      <td>3.243103</td>\n",
       "    </tr>\n",
       "    <tr>\n",
       "      <th>4</th>\n",
       "      <td>1</td>\n",
       "      <td>201811</td>\n",
       "      <td>192.6</td>\n",
       "      <td>46</td>\n",
       "      <td>1.021739</td>\n",
       "      <td>1.239130</td>\n",
       "      <td>3.378947</td>\n",
       "    </tr>\n",
       "    <tr>\n",
       "      <th>5</th>\n",
       "      <td>1</td>\n",
       "      <td>201812</td>\n",
       "      <td>189.6</td>\n",
       "      <td>42</td>\n",
       "      <td>1.119048</td>\n",
       "      <td>1.357143</td>\n",
       "      <td>3.326316</td>\n",
       "    </tr>\n",
       "    <tr>\n",
       "      <th>6</th>\n",
       "      <td>1</td>\n",
       "      <td>201901</td>\n",
       "      <td>154.8</td>\n",
       "      <td>35</td>\n",
       "      <td>1.028571</td>\n",
       "      <td>1.200000</td>\n",
       "      <td>3.685714</td>\n",
       "    </tr>\n",
       "    <tr>\n",
       "      <th>12</th>\n",
       "      <td>2</td>\n",
       "      <td>201807</td>\n",
       "      <td>150.8</td>\n",
       "      <td>39</td>\n",
       "      <td>1.051282</td>\n",
       "      <td>1.179487</td>\n",
       "      <td>3.278261</td>\n",
       "    </tr>\n",
       "    <tr>\n",
       "      <th>13</th>\n",
       "      <td>2</td>\n",
       "      <td>201808</td>\n",
       "      <td>193.8</td>\n",
       "      <td>39</td>\n",
       "      <td>1.102564</td>\n",
       "      <td>1.410256</td>\n",
       "      <td>3.523636</td>\n",
       "    </tr>\n",
       "    <tr>\n",
       "      <th>14</th>\n",
       "      <td>2</td>\n",
       "      <td>201809</td>\n",
       "      <td>154.4</td>\n",
       "      <td>36</td>\n",
       "      <td>1.027778</td>\n",
       "      <td>1.138889</td>\n",
       "      <td>3.765854</td>\n",
       "    </tr>\n",
       "  </tbody>\n",
       "</table>\n",
       "</div>"
      ],
      "text/plain": [
       "    STORE_NBR  YEARMONTH  TOT_SALES  nCustomers  nTxnPerCust  nChipsPerCust  \\\n",
       "0           1     201807      206.9          49     1.061224       1.265306   \n",
       "1           1     201808      176.1          42     1.023810       1.285714   \n",
       "2           1     201809      278.8          59     1.050847       1.271186   \n",
       "3           1     201810      188.1          44     1.022727       1.318182   \n",
       "4           1     201811      192.6          46     1.021739       1.239130   \n",
       "5           1     201812      189.6          42     1.119048       1.357143   \n",
       "6           1     201901      154.8          35     1.028571       1.200000   \n",
       "12          2     201807      150.8          39     1.051282       1.179487   \n",
       "13          2     201808      193.8          39     1.102564       1.410256   \n",
       "14          2     201809      154.4          36     1.027778       1.138889   \n",
       "\n",
       "    navgPricePerUnit  \n",
       "0           3.337097  \n",
       "1           3.261111  \n",
       "2           3.717333  \n",
       "3           3.243103  \n",
       "4           3.378947  \n",
       "5           3.326316  \n",
       "6           3.685714  \n",
       "12          3.278261  \n",
       "13          3.523636  \n",
       "14          3.765854  "
      ]
     },
     "execution_count": 42,
     "metadata": {},
     "output_type": "execute_result"
    }
   ],
   "source": [
    "obs_counts=file_month_metrics[\"STORE_NBR\"].value_counts()\n",
    "full_obs_index=obs_counts[obs_counts==12].index\n",
    "full_obs=file_month_metrics[file_month_metrics[\"STORE_NBR\"].isin(full_obs_index)]\n",
    "pretrial_full_obs=full_obs[full_obs[\"YEARMONTH\"]<201902]\n",
    "pretrial_full_obs.head(10)"
   ]
  },
  {
   "cell_type": "code",
   "execution_count": 52,
   "metadata": {},
   "outputs": [
    {
     "data": {
      "text/html": [
       "<div>\n",
       "<style scoped>\n",
       "    .dataframe tbody tr th:only-of-type {\n",
       "        vertical-align: middle;\n",
       "    }\n",
       "\n",
       "    .dataframe tbody tr th {\n",
       "        vertical-align: top;\n",
       "    }\n",
       "\n",
       "    .dataframe thead th {\n",
       "        text-align: right;\n",
       "    }\n",
       "</style>\n",
       "<table border=\"1\" class=\"dataframe\">\n",
       "  <thead>\n",
       "    <tr style=\"text-align: right;\">\n",
       "      <th></th>\n",
       "      <th>YEARMONTH</th>\n",
       "      <th>Trail_Str</th>\n",
       "      <th>Ctrl_Str</th>\n",
       "      <th>Corr_Score</th>\n",
       "    </tr>\n",
       "  </thead>\n",
       "  <tbody>\n",
       "    <tr>\n",
       "      <th>0</th>\n",
       "      <td>201807</td>\n",
       "      <td>77</td>\n",
       "      <td>1</td>\n",
       "      <td>0.070414</td>\n",
       "    </tr>\n",
       "    <tr>\n",
       "      <th>1</th>\n",
       "      <td>201808</td>\n",
       "      <td>77</td>\n",
       "      <td>1</td>\n",
       "      <td>0.027276</td>\n",
       "    </tr>\n",
       "    <tr>\n",
       "      <th>2</th>\n",
       "      <td>201809</td>\n",
       "      <td>77</td>\n",
       "      <td>1</td>\n",
       "      <td>0.002389</td>\n",
       "    </tr>\n",
       "    <tr>\n",
       "      <th>3</th>\n",
       "      <td>201810</td>\n",
       "      <td>77</td>\n",
       "      <td>1</td>\n",
       "      <td>-0.020045</td>\n",
       "    </tr>\n",
       "    <tr>\n",
       "      <th>4</th>\n",
       "      <td>201811</td>\n",
       "      <td>77</td>\n",
       "      <td>1</td>\n",
       "      <td>0.030024</td>\n",
       "    </tr>\n",
       "    <tr>\n",
       "      <th>5</th>\n",
       "      <td>201812</td>\n",
       "      <td>77</td>\n",
       "      <td>1</td>\n",
       "      <td>0.063946</td>\n",
       "    </tr>\n",
       "    <tr>\n",
       "      <th>6</th>\n",
       "      <td>201901</td>\n",
       "      <td>77</td>\n",
       "      <td>1</td>\n",
       "      <td>0.001470</td>\n",
       "    </tr>\n",
       "    <tr>\n",
       "      <th>0</th>\n",
       "      <td>201807</td>\n",
       "      <td>77</td>\n",
       "      <td>2</td>\n",
       "      <td>0.142957</td>\n",
       "    </tr>\n",
       "  </tbody>\n",
       "</table>\n",
       "</div>"
      ],
      "text/plain": [
       "  YEARMONTH Trail_Str Ctrl_Str  Corr_Score\n",
       "0    201807        77        1    0.070414\n",
       "1    201808        77        1    0.027276\n",
       "2    201809        77        1    0.002389\n",
       "3    201810        77        1   -0.020045\n",
       "4    201811        77        1    0.030024\n",
       "5    201812        77        1    0.063946\n",
       "6    201901        77        1    0.001470\n",
       "0    201807        77        2    0.142957"
      ]
     },
     "execution_count": 52,
     "metadata": {},
     "output_type": "execute_result"
    }
   ],
   "source": [
    "def calCorrTable(metricCol,storeComparision,inputTable=pretrial_full_obs):\n",
    "    cont_store_nbrs=inputTable[~inputTable[\"STORE_NBR\"].isin([77,86,88])][\"STORE_NBR\"].unique()\n",
    "    cors=pd.DataFrame(columns=[\"YEARMONTH\",\"Trail_Str\",\"Ctrl_Str\",\"Corr_Score\"])\n",
    "    trail_store=inputTable[inputTable[\"STORE_NBR\"]==storeComparision][metricCol].reset_index()\n",
    "    for control in cont_store_nbrs:\n",
    "        concat_file=pd.DataFrame(columns=[\"YEARMONTH\",\"Trail_Str\",\"Ctrl_Str\",\"Corr_Score\"])\n",
    "        cont_store=inputTable[inputTable[\"STORE_NBR\"]==control][metricCol].reset_index()\n",
    "        concat_file[\"Corr_Score\"]=trail_store.corrwith(cont_store,axis=1)\n",
    "        concat_file[\"Trail_Str\"]=storeComparision\n",
    "        concat_file[\"Ctrl_Str\"]=control\n",
    "        concat_file[\"YEARMONTH\"]=list(inputTable[inputTable[\"STORE_NBR\"]==storeComparision][\"YEARMONTH\"])\n",
    "        cors=pd.concat([cors,concat_file])\n",
    "    return cors\n",
    "corr_table = pd.DataFrame()\n",
    "for trial_num in [77, 86, 88]:\n",
    "    corr_table = pd.concat([corr_table, calCorrTable([\"TOT_SALES\", \"nCustomers\", \"nTxnPerCust\", \"nChipsPerCust\", \"navgPricePerUnit\"], trial_num)])\n",
    "    \n",
    "corr_table.head(8)"
   ]
  },
  {
   "cell_type": "code",
   "execution_count": 66,
   "metadata": {},
   "outputs": [],
   "source": [
    "def calMagnitudeDistance(metricCol,storeComparision,inputTable=pretrial_full_obs):\n",
    "    cont_store_nbrs=inputTable[~inputTable[\"STORE_NBR\"].isin([77,86,88])][\"STORE_NBR\"].unique()\n",
    "    dists=pd.DataFrame()\n",
    "    trail_store=inputTable[inputTable[\"STORE_NBR\"]==storeComparision][metricCol]\n",
    "    for count in cont_store_nbrs:\n",
    "        concat_file=abs(inputTable[inputTable[\"STORE_NBR\"]==storeComparision].reset_index()[metricCol]-inputTable[inputTable[\"STORE_NBR\"]==count].reset_index()[metricCol])\n",
    "        concat_file[\"YEARMONTH\"]=list(inputTable[inputTable[\"STORE_NBR\"]==storeComparision][\"YEARMONTH\"])\n",
    "        concat_file[\"Trail_Str\"]=storeComparision\n",
    "        concat_file[\"Ctrl_Str\"]=count\n",
    "        dists=pd.concat([dists,concat_file])\n",
    "    for col in metricCol:\n",
    "        dists[col]=1-((dists[col]-dists[col].min())/(dists[col].max()-dists[col].min()))\n",
    "    dists[\"magnitude\"]=dists[metricCol].mean(axis=1)\n",
    "    return dists"
   ]
  },
  {
   "cell_type": "code",
   "execution_count": 67,
   "metadata": {},
   "outputs": [
    {
     "data": {
      "text/html": [
       "<div>\n",
       "<style scoped>\n",
       "    .dataframe tbody tr th:only-of-type {\n",
       "        vertical-align: middle;\n",
       "    }\n",
       "\n",
       "    .dataframe tbody tr th {\n",
       "        vertical-align: top;\n",
       "    }\n",
       "\n",
       "    .dataframe thead th {\n",
       "        text-align: right;\n",
       "    }\n",
       "</style>\n",
       "<table border=\"1\" class=\"dataframe\">\n",
       "  <thead>\n",
       "    <tr style=\"text-align: right;\">\n",
       "      <th></th>\n",
       "      <th>TOT_SALES</th>\n",
       "      <th>nCustomers</th>\n",
       "      <th>nTxnPerCust</th>\n",
       "      <th>nChipsPerCust</th>\n",
       "      <th>navgPricePerUnit</th>\n",
       "      <th>YEARMONTH</th>\n",
       "      <th>Trail_Str</th>\n",
       "      <th>Ctrl_Str</th>\n",
       "      <th>magnitude</th>\n",
       "    </tr>\n",
       "  </thead>\n",
       "  <tbody>\n",
       "    <tr>\n",
       "      <th>0</th>\n",
       "      <td>0.935431</td>\n",
       "      <td>0.980769</td>\n",
       "      <td>0.958035</td>\n",
       "      <td>0.739412</td>\n",
       "      <td>0.883569</td>\n",
       "      <td>201807</td>\n",
       "      <td>77</td>\n",
       "      <td>1</td>\n",
       "      <td>0.899443</td>\n",
       "    </tr>\n",
       "    <tr>\n",
       "      <th>1</th>\n",
       "      <td>0.942972</td>\n",
       "      <td>0.951923</td>\n",
       "      <td>0.993823</td>\n",
       "      <td>0.802894</td>\n",
       "      <td>0.886328</td>\n",
       "      <td>201808</td>\n",
       "      <td>77</td>\n",
       "      <td>1</td>\n",
       "      <td>0.915588</td>\n",
       "    </tr>\n",
       "    <tr>\n",
       "      <th>2</th>\n",
       "      <td>0.961503</td>\n",
       "      <td>0.836538</td>\n",
       "      <td>0.992126</td>\n",
       "      <td>0.730041</td>\n",
       "      <td>0.703027</td>\n",
       "      <td>201809</td>\n",
       "      <td>77</td>\n",
       "      <td>1</td>\n",
       "      <td>0.844647</td>\n",
       "    </tr>\n",
       "    <tr>\n",
       "      <th>3</th>\n",
       "      <td>0.988221</td>\n",
       "      <td>0.932692</td>\n",
       "      <td>0.989514</td>\n",
       "      <td>0.940460</td>\n",
       "      <td>0.590528</td>\n",
       "      <td>201810</td>\n",
       "      <td>77</td>\n",
       "      <td>1</td>\n",
       "      <td>0.888283</td>\n",
       "    </tr>\n",
       "    <tr>\n",
       "      <th>4</th>\n",
       "      <td>0.962149</td>\n",
       "      <td>0.951923</td>\n",
       "      <td>0.874566</td>\n",
       "      <td>0.730358</td>\n",
       "      <td>0.832481</td>\n",
       "      <td>201811</td>\n",
       "      <td>77</td>\n",
       "      <td>1</td>\n",
       "      <td>0.870296</td>\n",
       "    </tr>\n",
       "    <tr>\n",
       "      <th>...</th>\n",
       "      <td>...</td>\n",
       "      <td>...</td>\n",
       "      <td>...</td>\n",
       "      <td>...</td>\n",
       "      <td>...</td>\n",
       "      <td>...</td>\n",
       "      <td>...</td>\n",
       "      <td>...</td>\n",
       "      <td>...</td>\n",
       "    </tr>\n",
       "    <tr>\n",
       "      <th>2</th>\n",
       "      <td>0.924387</td>\n",
       "      <td>0.925000</td>\n",
       "      <td>0.821712</td>\n",
       "      <td>0.453839</td>\n",
       "      <td>0.610170</td>\n",
       "      <td>201809</td>\n",
       "      <td>89</td>\n",
       "      <td>272</td>\n",
       "      <td>0.747022</td>\n",
       "    </tr>\n",
       "    <tr>\n",
       "      <th>3</th>\n",
       "      <td>0.889222</td>\n",
       "      <td>0.900000</td>\n",
       "      <td>0.711405</td>\n",
       "      <td>0.502447</td>\n",
       "      <td>0.465934</td>\n",
       "      <td>201810</td>\n",
       "      <td>89</td>\n",
       "      <td>272</td>\n",
       "      <td>0.693802</td>\n",
       "    </tr>\n",
       "    <tr>\n",
       "      <th>4</th>\n",
       "      <td>0.879371</td>\n",
       "      <td>0.983333</td>\n",
       "      <td>0.880589</td>\n",
       "      <td>0.545798</td>\n",
       "      <td>0.469723</td>\n",
       "      <td>201811</td>\n",
       "      <td>89</td>\n",
       "      <td>272</td>\n",
       "      <td>0.751763</td>\n",
       "    </tr>\n",
       "    <tr>\n",
       "      <th>5</th>\n",
       "      <td>0.819220</td>\n",
       "      <td>0.858333</td>\n",
       "      <td>0.844058</td>\n",
       "      <td>0.640436</td>\n",
       "      <td>0.369157</td>\n",
       "      <td>201812</td>\n",
       "      <td>89</td>\n",
       "      <td>272</td>\n",
       "      <td>0.706241</td>\n",
       "    </tr>\n",
       "    <tr>\n",
       "      <th>6</th>\n",
       "      <td>0.863192</td>\n",
       "      <td>1.000000</td>\n",
       "      <td>0.949149</td>\n",
       "      <td>0.552296</td>\n",
       "      <td>0.526506</td>\n",
       "      <td>201901</td>\n",
       "      <td>89</td>\n",
       "      <td>272</td>\n",
       "      <td>0.778229</td>\n",
       "    </tr>\n",
       "  </tbody>\n",
       "</table>\n",
       "<p>5397 rows × 9 columns</p>\n",
       "</div>"
      ],
      "text/plain": [
       "    TOT_SALES  nCustomers  nTxnPerCust  nChipsPerCust  navgPricePerUnit  \\\n",
       "0    0.935431    0.980769     0.958035       0.739412          0.883569   \n",
       "1    0.942972    0.951923     0.993823       0.802894          0.886328   \n",
       "2    0.961503    0.836538     0.992126       0.730041          0.703027   \n",
       "3    0.988221    0.932692     0.989514       0.940460          0.590528   \n",
       "4    0.962149    0.951923     0.874566       0.730358          0.832481   \n",
       "..        ...         ...          ...            ...               ...   \n",
       "2    0.924387    0.925000     0.821712       0.453839          0.610170   \n",
       "3    0.889222    0.900000     0.711405       0.502447          0.465934   \n",
       "4    0.879371    0.983333     0.880589       0.545798          0.469723   \n",
       "5    0.819220    0.858333     0.844058       0.640436          0.369157   \n",
       "6    0.863192    1.000000     0.949149       0.552296          0.526506   \n",
       "\n",
       "    YEARMONTH  Trail_Str  Ctrl_Str  magnitude  \n",
       "0      201807         77         1   0.899443  \n",
       "1      201808         77         1   0.915588  \n",
       "2      201809         77         1   0.844647  \n",
       "3      201810         77         1   0.888283  \n",
       "4      201811         77         1   0.870296  \n",
       "..        ...        ...       ...        ...  \n",
       "2      201809         89       272   0.747022  \n",
       "3      201810         89       272   0.693802  \n",
       "4      201811         89       272   0.751763  \n",
       "5      201812         89       272   0.706241  \n",
       "6      201901         89       272   0.778229  \n",
       "\n",
       "[5397 rows x 9 columns]"
      ]
     },
     "execution_count": 67,
     "metadata": {},
     "output_type": "execute_result"
    }
   ],
   "source": [
    "dist_tables=pd.DataFrame()\n",
    "for trial_num in [77,86,89]:\n",
    "    dist_tables=pd.concat([dist_tables,calMagnitudeDistance([\"TOT_SALES\", \"nCustomers\", \"nTxnPerCust\", \"nChipsPerCust\", \"navgPricePerUnit\"], trial_num)])\n",
    "dist_tables.head(8)\n",
    "dist_tables"
   ]
  },
  {
   "cell_type": "code",
   "execution_count": 80,
   "metadata": {},
   "outputs": [],
   "source": [
    "def combine_corr_dist(metricCol, storeComparision, inputTable=pretrial_full_obs):\n",
    "    corrs = calCorrTable(metricCol, storeComparision, inputTable)\n",
    "    dists = calMagnitudeDistance(metricCol, storeComparision, inputTable)\n",
    "    dists = dists.drop(metricCol, axis=1)\n",
    "    combine = pd.merge(corrs, dists, on=[\"YEARMONTH\", \"Trail_Str\", \"Ctrl_Str\"])\n",
    "    return combine"
   ]
  },
  {
   "cell_type": "code",
   "execution_count": 86,
   "metadata": {},
   "outputs": [],
   "source": [
    "compare_metrics_table1=pd.DataFrame()\n",
    "for trail_num in [77,86,88]:\n",
    "    compare_metrics_table1=pd.concat([compare_metrics_table1,combine_corr_dist([\"TOT_SALES\"],trial_num)])"
   ]
  },
  {
   "cell_type": "code",
   "execution_count": 87,
   "metadata": {},
   "outputs": [],
   "source": [
    "corr_weight=0.5\n",
    "dist_weight=1-corr_weight"
   ]
  },
  {
   "cell_type": "code",
   "execution_count": 88,
   "metadata": {},
   "outputs": [
    {
     "name": "stdout",
     "output_type": "stream",
     "text": [
      "     Trail_Str  Ctrl_Str  Corr_Score  magnitude  CompScore\n",
      "80          89        89         1.0   1.000000   1.000000\n",
      "120         89       131         1.0   0.979962   0.989981\n",
      "165         89       176         1.0   0.974622   0.987311\n",
      "70          89        74         1.0   0.974333   0.987166\n",
      "174         89       185         1.0   0.973196   0.986598 \n",
      "\n"
     ]
    }
   ],
   "source": [
    "grouped_comparison_table1 = compare_metrics_table1.groupby([\"Trail_Str\", \"Ctrl_Str\"]).mean().reset_index()\n",
    "grouped_comparison_table1[\"CompScore\"] = (corr_weight * grouped_comparison_table1[\"Corr_Score\"]) + (dist_weight * grouped_comparison_table1[\"magnitude\"])\n",
    "for trial_num in compare_metrics_table1[\"Trail_Str\"].unique():\n",
    "    print(grouped_comparison_table1[grouped_comparison_table1[\"Trail_Str\"] == trial_num].sort_values(ascending=False, by=\"CompScore\").head(), '\\n')"
   ]
  },
  {
   "cell_type": "code",
   "execution_count": 89,
   "metadata": {},
   "outputs": [],
   "source": [
    "compare_metrics_table2 = pd.DataFrame()\n",
    "for trial_num in [77, 86, 88]:\n",
    "    compare_metrics_table2 = pd.concat([compare_metrics_table2, combine_corr_dist([\"nCustomers\"], trial_num)])"
   ]
  },
  {
   "cell_type": "code",
   "execution_count": 90,
   "metadata": {},
   "outputs": [
    {
     "name": "stdout",
     "output_type": "stream",
     "text": [
      "     Trail_Str  Ctrl_Str  Corr_Score  magnitude  CompScore\n",
      "218         77       233         1.0   0.993132   0.996566\n",
      "38          77        41         1.0   0.976648   0.988324\n",
      "101         77       111         1.0   0.968407   0.984203\n",
      "105         77       115         1.0   0.967033   0.983516\n",
      "15          77        17         1.0   0.965659   0.982830 \n",
      "\n",
      "     Trail_Str  Ctrl_Str  Corr_Score  magnitude  CompScore\n",
      "401         86       155         1.0   0.986772   0.993386\n",
      "467         86       225         1.0   0.969577   0.984788\n",
      "356         86       109         1.0   0.969577   0.984788\n",
      "471         86       229         1.0   0.964286   0.982143\n",
      "293         86        39         1.0   0.961640   0.980820 \n",
      "\n",
      "     Trail_Str  Ctrl_Str  Corr_Score  magnitude  CompScore\n",
      "736         88       237         1.0   0.987818   0.993909\n",
      "705         88       203         1.0   0.944629   0.972315\n",
      "551         88        40         1.0   0.942414   0.971207\n",
      "668         88       165         1.0   0.935770   0.967885\n",
      "701         88       199         1.0   0.932447   0.966224 \n",
      "\n"
     ]
    }
   ],
   "source": [
    "grouped_comparison_table2 = compare_metrics_table2.groupby([\"Trail_Str\", \"Ctrl_Str\"]).mean().reset_index()\n",
    "grouped_comparison_table2[\"CompScore\"] = (corr_weight * grouped_comparison_table2[\"Corr_Score\"]) + (dist_weight * grouped_comparison_table2[\"magnitude\"])\n",
    "for trial_num in compare_metrics_table2[\"Trail_Str\"].unique():\n",
    "    print(grouped_comparison_table2[grouped_comparison_table2[\"Trail_Str\"] == trial_num].sort_values(ascending=False, by=\"CompScore\").head(), '\\n')"
   ]
  },
  {
   "cell_type": "code",
   "execution_count": 92,
   "metadata": {},
   "outputs": [
    {
     "name": "stdout",
     "output_type": "stream",
     "text": [
      "Trail_Str  Ctrl_Str\n",
      "77         233         0.498283\n",
      "           41          0.494162\n",
      "           111         0.492102\n",
      "dtype: float64 \n",
      "\n",
      "Trail_Str  Ctrl_Str\n",
      "86         155         0.496693\n",
      "           225         0.492394\n",
      "           109         0.492394\n",
      "dtype: float64 \n",
      "\n",
      "Trail_Str  Ctrl_Str\n",
      "88         237         0.496955\n",
      "           203         0.486157\n",
      "           40          0.485604\n",
      "dtype: float64 \n",
      "\n"
     ]
    }
   ],
   "source": [
    "for trial_num in compare_metrics_table2[\"Trail_Str\"].unique():\n",
    "    a = grouped_comparison_table1[grouped_comparison_table1[\"Trail_Str\"] == trial_num].sort_values(ascending=False, by=\"CompScore\").set_index([\"Trail_Str\", \"Ctrl_Str\"])[\"CompScore\"]\n",
    "    b = grouped_comparison_table2[grouped_comparison_table2[\"Trail_Str\"] == trial_num].sort_values(ascending=False, by=\"CompScore\").set_index([\"Trail_Str\", \"Ctrl_Str\"])[\"CompScore\"]\n",
    "    print((pd.concat([a,b], axis=1).sum(axis=1)/2).sort_values(ascending=False).head(3), '\\n')"
   ]
  },
  {
   "cell_type": "code",
   "execution_count": 94,
   "metadata": {},
   "outputs": [
    {
     "data": {
      "image/png": "[encoded data removed]",
      "text/plain": [
       "<Figure size 432x288 with 1 Axes>"
      ]
     },
     "metadata": {
      "needs_background": "light"
     },
     "output_type": "display_data"
    },
    {
     "data": {
      "image/png": "[encoded data removed]",
      "text/plain": [
       "<Figure size 432x288 with 1 Axes>"
      ]
     },
     "metadata": {
      "needs_background": "light"
     },
     "output_type": "display_data"
    },
    {
     "name": "stdout",
     "output_type": "stream",
     "text": [
      "\n",
      "\n"
     ]
    },
    {
     "data": {
      "image/png": "[encoded data removed]",
      "text/plain": [
       "<Figure size 432x288 with 1 Axes>"
      ]
     },
     "metadata": {
      "needs_background": "light"
     },
     "output_type": "display_data"
    },
    {
     "data": {
      "image/png": "[encoded data removed]",
      "text/plain": [
       "<Figure size 432x288 with 1 Axes>"
      ]
     },
     "metadata": {
      "needs_background": "light"
     },
     "output_type": "display_data"
    },
    {
     "name": "stdout",
     "output_type": "stream",
     "text": [
      "\n",
      "\n"
     ]
    },
    {
     "data": {
      "image/png": "[encoded data removed]",
      "text/plain": [
       "<Figure size 432x288 with 1 Axes>"
      ]
     },
     "metadata": {
      "needs_background": "light"
     },
     "output_type": "display_data"
    },
    {
     "data": {
      "image/png": "[encoded data removed]",
      "text/plain": [
       "<Figure size 432x288 with 1 Axes>"
      ]
     },
     "metadata": {
      "needs_background": "light"
     },
     "output_type": "display_data"
    },
    {
     "name": "stdout",
     "output_type": "stream",
     "text": [
      "\n",
      "\n"
     ]
    }
   ],
   "source": [
    "trial_control_dic = {77:233, 86:155, 88:40}\n",
    "for key, val in trial_control_dic.items():\n",
    "    pretrial_full_obs[pretrial_full_obs[\"STORE_NBR\"].isin([key, val])].groupby(\n",
    "        [\"YEARMONTH\", \"STORE_NBR\"]).sum()[\"TOT_SALES\"].unstack().plot.line()\n",
    "    plt.legend(loc='center left', bbox_to_anchor=(1.0, 0.5))\n",
    "    plt.title(\"Trail Store \"+str(key)+\" and Control Store \"+str(val)+\" - TOT_SALES\")\n",
    "    plt.show()\n",
    "    pretrial_full_obs[pretrial_full_obs[\"STORE_NBR\"].isin([key, val])].groupby(\n",
    "    [\"YEARMONTH\", \"STORE_NBR\"]).sum()[\"nCustomers\"].unstack().plot.line()\n",
    "    plt.legend(loc='center left', bbox_to_anchor=(1.0, 0.5))\n",
    "    plt.title(\"Trail Store \"+str(key)+\" and Control Store \"+str(val)+\" - nCustomer\")\n",
    "    plt.show()\n",
    "    print('\\n')"
   ]
  },
  {
   "cell_type": "code",
   "execution_count": 95,
   "metadata": {},
   "outputs": [],
   "source": [
    "sales_ratio_77 = pretrial_full_obs[pretrial_full_obs[\"STORE_NBR\"] == 77][\"TOT_SALES\"].sum() / pretrial_full_obs[pretrial_full_obs[\"STORE_NBR\"] == 233][\"TOT_SALES\"].sum()\n",
    "sales_ratio_86 = pretrial_full_obs[pretrial_full_obs[\"STORE_NBR\"] == 86][\"TOT_SALES\"].sum() / pretrial_full_obs[pretrial_full_obs[\"STORE_NBR\"] == 155][\"TOT_SALES\"].sum()\n",
    "sales_ratio_88 = pretrial_full_obs[pretrial_full_obs[\"STORE_NBR\"] == 88][\"TOT_SALES\"].sum() / pretrial_full_obs[pretrial_full_obs[\"STORE_NBR\"] == 40][\"TOT_SALES\"].sum()\n"
   ]
  },
  {
   "cell_type": "code",
   "execution_count": 99,
   "metadata": {},
   "outputs": [],
   "source": [
    "trial_full_observ = full_obs[(full_obs[\"YEARMONTH\"] >= 201902) & (full_obs[\"YEARMONTH\"] <= 201904)]\n",
    "scaled_sales_control_stores = full_obs[full_obs[\"STORE_NBR\"].isin([233, 155, 40])][[\"STORE_NBR\", \"YEARMONTH\", \"TOT_SALES\"]]\n",
    "\n",
    "def scaler(row):\n",
    "    if row[\"STORE_NBR\"] == 233:\n",
    "        return row[\"TOT_SALES\"] * sales_ratio_77\n",
    "    elif row[\"STORE_NBR\"] == 155:\n",
    "        return row[\"TOT_SALES\"] * sales_ratio_86\n",
    "    elif row[\"STORE_NBR\"] == 40:\n",
    "        return row[\"TOT_SALES\"] * sales_ratio_88\n",
    "\n",
    "scaled_sales_control_stores[\"ScaledSales\"] = scaled_sales_control_stores.apply(lambda row: scaler(row), axis=1)\n",
    "\n",
    "trial_scaled_sales_control_stores = scaled_sales_control_stores[(scaled_sales_control_stores[\"YEARMONTH\"] >= 201902) & (scaled_sales_control_stores[\"YEARMONTH\"] <= 201904)]\n",
    "pretrial_scaled_sales_control_stores = scaled_sales_control_stores[scaled_sales_control_stores[\"YEARMONTH\"] < 201902]"
   ]
  },
  {
   "cell_type": "code",
   "execution_count": 110,
   "metadata": {},
   "outputs": [
    {
     "data": {
      "image/png": "[encoded data removed]",
      "text/plain": [
       "<Figure size 432x288 with 1 Axes>"
      ]
     },
     "metadata": {
      "needs_background": "light"
     },
     "output_type": "display_data"
    },
    {
     "data": {
      "image/png": "[encoded data removed]",
      "text/plain": [
       "<Figure size 432x288 with 1 Axes>"
      ]
     },
     "metadata": {
      "needs_background": "light"
     },
     "output_type": "display_data"
    },
    {
     "data": {
      "image/png": "[encoded data removed]",
      "text/plain": [
       "<Figure size 432x288 with 1 Axes>"
      ]
     },
     "metadata": {
      "needs_background": "light"
     },
     "output_type": "display_data"
    }
   ],
   "source": [
    "percentage_diff = {}\n",
    "\n",
    "for trial, control in trial_control_dic.items():\n",
    "    a = trial_scaled_sales_control_stores[trial_scaled_sales_control_stores[\"STORE_NBR\"] == control]\n",
    "    b = trial_full_observ[trial_full_observ[\"STORE_NBR\"] == trial][[\"STORE_NBR\", \"YEARMONTH\", \"TOT_SALES\"]]\n",
    "    percentage_diff[trial] = b[\"TOT_SALES\"].sum() / a[\"ScaledSales\"].sum()\n",
    "    b[[\"YEARMONTH\", \"TOT_SALES\"]].merge(a[[\"YEARMONTH\", \"ScaledSales\"]],on=\"YEARMONTH\").set_index(\"YEARMONTH\").rename(columns={\"ScaledSales\":\"Scaled_Control_Sales\", \"TOT_SALES\":\"Trial_Sales\"}).plot.box()\n",
    "    plt.title(\"Trial Store \"+str(trial)+\" and Control Store \"+str(control))\n",
    "    "
   ]
  },
  {
   "cell_type": "code",
   "execution_count": 113,
   "metadata": {},
   "outputs": [
    {
     "data": {
      "text/plain": [
       "{77: 1.2615468650086274, 86: 1.13150143573637, 88: 1.0434583458542188}"
      ]
     },
     "execution_count": 113,
     "metadata": {},
     "output_type": "execute_result"
    }
   ],
   "source": [
    "percentage_diff"
   ]
  },
  {
   "cell_type": "code",
   "execution_count": null,
   "metadata": {},
   "outputs": [],
   "source": []
  }
 ],
 "metadata": {
  "kernelspec": {
   "display_name": "Python 3",
   "language": "python",
   "name": "python3"
  },
  "language_info": {
   "codemirror_mode": {
    "name": "ipython",
    "version": 3
   },
   "file_extension": ".py",
   "mimetype": "text/x-python",
   "name": "python",
   "nbconvert_exporter": "python",
   "pygments_lexer": "ipython3",
   "version": "3.8.5"
  }
 },
 "nbformat": 4,
 "nbformat_minor": 4
}
